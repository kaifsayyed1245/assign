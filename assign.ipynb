{
 "cells": [
  {
   "cell_type": "code",
   "execution_count": null,
   "id": "3adf663a-f5c8-46f6-924f-eaab61ae7462",
   "metadata": {},
   "outputs": [],
   "source": [
    "a1. python was developed by guido van rossum.\n",
    "\n",
    "a2. pyyhon supports object-oriented and structured progeramming.\n",
    "\n",
    "a3. yes,it is.\n",
    "\n",
    "a4. py is the correct extension of python file.\n",
    "\n",
    "a5. python is interpreted.\n",
    "\n",
    "a6. a module,function body and class definition\n",
    "\n",
    "a7. a single # is useded.\n",
    "\n",
    "a8. sys. version python-v.\n",
    "\n",
    "a9. called lambda.\n",
    "\n",
    "a10. preferred installer program.\n",
    "\n",
    "a11. 1 .append(),pop(),sort(),insert().\n",
    "\n",
    "a12. 79 is the max.\n",
    "\n",
    "a13. python has has a lot of build in function that helps,\n",
    "     it is easy to understand.\n",
    "\n",
    "a14. python uses a private heap containing al python objects,\n",
    "     and data structure.\n",
    "    \n",
    "a15. Install python from this link https://www.python.org/downloads/\n",
    "     After this, install it on your PC. Look for the location where PYTHON has been installed on your PC using tge following command on your command prompt: cmd python.\n",
    "     Then go to advanced system settings and add new variable and name it as PYTHON_NAME and paste the copied path.\n",
    "     Then look for the path variable, select it's value and select edit\n",
    "     Add a semicolon towards the end of the value if it's not present and then type %PYTHON_HOME%\n",
    "        \n",
    "a16. yes it is.as witout it it will show an error or indentationerror"
   ]
  }
 ],
 "metadata": {
  "kernelspec": {
   "display_name": "Python 3 (ipykernel)",
   "language": "python",
   "name": "python3"
  },
  "language_info": {
   "codemirror_mode": {
    "name": "ipython",
    "version": 3
   },
   "file_extension": ".py",
   "mimetype": "text/x-python",
   "name": "python",
   "nbconvert_exporter": "python",
   "pygments_lexer": "ipython3",
   "version": "3.10.8"
  }
 },
 "nbformat": 4,
 "nbformat_minor": 5
}
